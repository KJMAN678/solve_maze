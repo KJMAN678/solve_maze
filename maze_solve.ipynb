{
  "nbformat": 4,
  "nbformat_minor": 0,
  "metadata": {
    "colab": {
      "name": "maze_solve.ipynb",
      "provenance": [],
      "collapsed_sections": []
    },
    "kernelspec": {
      "name": "python3",
      "display_name": "Python 3"
    },
    "language_info": {
      "name": "python"
    }
  },
  "cells": [
    {
      "cell_type": "code",
      "metadata": {
        "id": "X0L7m4dGXTEN"
      },
      "source": [
        "import numpy as np\n",
        "import matplotlib.pyplot as plt\n",
        "from scipy.ndimage.filters import minimum_filter, maximum_filter\n",
        "import copy"
      ],
      "execution_count": 1,
      "outputs": []
    },
    {
      "cell_type": "code",
      "metadata": {
        "colab": {
          "base_uri": "https://localhost:8080/"
        },
        "id": "dgFHYiE4pMgr",
        "outputId": "7e26b188-d7d9-4840-a06f-f147773f9734"
      },
      "source": [
        "maze = ['s..', '##.', 'g..', '...']\n",
        "\n",
        "print(len(maze)) # タテ\n",
        "print(len(maze[0])) # ヨコ\n",
        "\n",
        "print(maze)"
      ],
      "execution_count": 2,
      "outputs": [
        {
          "output_type": "stream",
          "text": [
            "4\n",
            "3\n",
            "['s..', '##.', 'g..', '...']\n"
          ],
          "name": "stdout"
        }
      ]
    },
    {
      "cell_type": "code",
      "metadata": {
        "colab": {
          "base_uri": "https://localhost:8080/"
        },
        "id": "JoCTJmNLYSTd",
        "outputId": "a865d996-de2f-45e0-aa6a-cef868704de5"
      },
      "source": [
        "for i in range(len(maze)): # 左右の端に壁を作る\n",
        "   maze[i] =  \"#\" + maze[i] + \"#\"\n",
        "\n",
        "maze.insert(0, \"#\"*(len(maze[0]))) # 一番上に壁を設置\n",
        "maze.insert(len(maze)+2, \"#\"*(len(maze[1]))) # 一番下に壁を設置\n",
        "\n",
        "maze = [list(i) for i in maze]\n",
        "maze_use =l2 = copy.deepcopy(maze)\n",
        "maze_use"
      ],
      "execution_count": 3,
      "outputs": [
        {
          "output_type": "execute_result",
          "data": {
            "text/plain": [
              "[['#', '#', '#', '#', '#'],\n",
              " ['#', 's', '.', '.', '#'],\n",
              " ['#', '#', '#', '.', '#'],\n",
              " ['#', 'g', '.', '.', '#'],\n",
              " ['#', '.', '.', '.', '#'],\n",
              " ['#', '#', '#', '#', '#']]"
            ]
          },
          "metadata": {
            "tags": []
          },
          "execution_count": 3
        }
      ]
    },
    {
      "cell_type": "code",
      "metadata": {
        "id": "zH0-OdbiMrqv"
      },
      "source": [
        "wall = '#'\n",
        "goal = 'g'"
      ],
      "execution_count": 4,
      "outputs": []
    },
    {
      "cell_type": "code",
      "metadata": {
        "id": "uIocvlXJVC3u"
      },
      "source": [
        "def search_index(maze, char):\n",
        "    for y_grid in range(len(maze)):\n",
        "        for x_grid in range(len(maze[y_grid])):\n",
        "            if maze[y_grid][x_grid] == char:\n",
        "                break\n",
        "        else:\n",
        "            continue\n",
        "        break\n",
        "    return y_grid, x_grid # y, x"
      ],
      "execution_count": 5,
      "outputs": []
    },
    {
      "cell_type": "markdown",
      "metadata": {
        "id": "pP_zgDSBnfq1"
      },
      "source": [
        "## 深さ優先探索"
      ]
    },
    {
      "cell_type": "code",
      "metadata": {
        "id": "xY0tRU6HUvQ-"
      },
      "source": [
        "def solve(maze, y, x):\n",
        "    if maze[y][x] == goal:\n",
        "        return [(y, x)]\n",
        "    maze[y][x] = wall\n",
        "    for (next_y, next_x) in [(y+1, x), (y, x+1), (y, x-1), (y-1, x)]:\n",
        "        if maze[next_y][next_x] == wall:\n",
        "            continue\n",
        "        route=solve(maze, next_y, next_x)\n",
        "        if route:\n",
        "            return [(y, x)] + route"
      ],
      "execution_count": 6,
      "outputs": []
    },
    {
      "cell_type": "code",
      "metadata": {
        "colab": {
          "base_uri": "https://localhost:8080/"
        },
        "id": "nIbyYXRdU0z3",
        "outputId": "abf4dd55-2ee4-4f82-964f-b70196a12be7"
      },
      "source": [
        "start_index = search_index(maze_use, \"s\")\n",
        "\n",
        "route = solve(maze_use, start_index[0], start_index[1])\n",
        "route"
      ],
      "execution_count": 7,
      "outputs": [
        {
          "output_type": "execute_result",
          "data": {
            "text/plain": [
              "[(1, 1), (1, 2), (1, 3), (2, 3), (3, 3), (4, 3), (4, 2), (4, 1), (3, 1)]"
            ]
          },
          "metadata": {
            "tags": []
          },
          "execution_count": 7
        }
      ]
    },
    {
      "cell_type": "markdown",
      "metadata": {
        "id": "AAXR-ndEqWRd"
      },
      "source": [
        "## 飛車移動ができる場合のコストの算定"
      ]
    },
    {
      "cell_type": "code",
      "metadata": {
        "colab": {
          "base_uri": "https://localhost:8080/"
        },
        "id": "T5Taj0lrbZZN",
        "outputId": "3a1c9f70-a5b6-400f-e60a-802dfb34c90e"
      },
      "source": [
        "cost = 1\n",
        "\n",
        "x_serial = 0\n",
        "y_serial = 0\n",
        "\n",
        "# print(route[0])\n",
        "# print(route[1])\n",
        "\n",
        "for i in range(2, len(route)):\n",
        "    # print(route[i])\n",
        "\n",
        "    if route[i-2][0] == route[i-1][0] and route[i-1][0] == route[i][0]:\n",
        "        pass\n",
        "    elif route[i-2][1] == route[i-1][1] and route[i-1][1] == route[i][1]:\n",
        "        pass\n",
        "    else:\n",
        "        cost += 1\n",
        "\n",
        "print(cost)"
      ],
      "execution_count": 8,
      "outputs": [
        {
          "output_type": "stream",
          "text": [
            "4\n"
          ],
          "name": "stdout"
        }
      ]
    },
    {
      "cell_type": "markdown",
      "metadata": {
        "id": "-kZ2FmiUnmIU"
      },
      "source": [
        "## 幅優先探索"
      ]
    },
    {
      "cell_type": "code",
      "metadata": {
        "colab": {
          "base_uri": "https://localhost:8080/"
        },
        "id": "z6L0uU3nntIs",
        "outputId": "a9d00c13-39fb-42e4-8b60-3e783b92bfed"
      },
      "source": [
        "#########################\n",
        "# 前処理\n",
        "#########################\n",
        "#たてとよこ\n",
        "h, w = len(maze), len(maze[0])\n",
        "#コスト\n",
        "cost = np.zeros((h, w), dtype=int) + 999\n",
        "#コストが書き込まれて探索が終了したマス（bool）\n",
        "done = np.zeros((h, w), dtype=bool)\n",
        "#障害物（bool）\n",
        "barrier = np.zeros((h, w), dtype=bool)\n",
        "\n",
        "#プーリング用のフィルタ\n",
        "g = np.array([[0, 1, 0],\n",
        "              [1, 1, 1],\n",
        "              [0, 1, 0]])\n",
        "\n",
        "#mazeからスタート位置、ゴール位置、障害物位置を取得\n",
        "for i in range(h):\n",
        "    maze[i] = list(maze[i])\n",
        "    for j in range(w):\n",
        "        if maze[i][j] == 's':\n",
        "            start = (i, j)\n",
        "            cost[i, j] = 0\n",
        "            done[i, j] = True\n",
        "        if maze[i][j] == 'g':\n",
        "            goal = (i, j)\n",
        "        if maze[i][j] == '#':\n",
        "            barrier[i, j] = True\n",
        "\n",
        "print('start\\n{}'.format(start))\n",
        "print('goal\\n{}'.format(goal))\n",
        "print('cost\\n{}'.format(cost))\n",
        "print('done\\n{}'.format(done))\n",
        "print('barrier\\n{}'.format(barrier))"
      ],
      "execution_count": 9,
      "outputs": [
        {
          "output_type": "stream",
          "text": [
            "start\n",
            "(1, 1)\n",
            "goal\n",
            "(3, 1)\n",
            "cost\n",
            "[[999 999 999 999 999]\n",
            " [999   0 999 999 999]\n",
            " [999 999 999 999 999]\n",
            " [999 999 999 999 999]\n",
            " [999 999 999 999 999]\n",
            " [999 999 999 999 999]]\n",
            "done\n",
            "[[False False False False False]\n",
            " [False  True False False False]\n",
            " [False False False False False]\n",
            " [False False False False False]\n",
            " [False False False False False]\n",
            " [False False False False False]]\n",
            "barrier\n",
            "[[ True  True  True  True  True]\n",
            " [ True False False False  True]\n",
            " [ True  True  True False  True]\n",
            " [ True False False False  True]\n",
            " [ True False False False  True]\n",
            " [ True  True  True  True  True]]\n"
          ],
          "name": "stdout"
        }
      ]
    },
    {
      "cell_type": "code",
      "metadata": {
        "colab": {
          "base_uri": "https://localhost:8080/",
          "height": 609
        },
        "id": "Yw5rsZgbpKmT",
        "outputId": "0e02abd1-43c0-49b3-b355-4cc3158874ef"
      },
      "source": [
        "#########################\n",
        "# 表示関数\n",
        "#########################\n",
        "def show(step):\n",
        "    plt.figure(figsize=(10, 10))\n",
        "    \n",
        "    #フィールド、障害物の表示\n",
        "    plt.imshow(barrier, cmap='inferno_r')\n",
        "    #スタート、ゴールの記入\n",
        "    plt.text(start[1]-0.4, start[0]-0.1, 'S', size = 20, color = 'r')\n",
        "    plt.text(goal[1]-0.4, goal[0]-0.1, 'G', size = 20, color = 'b')\n",
        "    #コストの記入\n",
        "    x, y = np.where(cost != 999)\n",
        "    c = cost[x, y]\n",
        "    for i in range(len(x)):\n",
        "        plt.text(y[i]-0.1, x[i]+0.1, c[i], size = 20, color = 'gray')\n",
        "    \n",
        "    #plt.savefig('save/{}.png'.format(step), bbox_inches='tight', pad_inches=0)\n",
        "    plt.show(), plt.close(), print()\n",
        "    \n",
        "#表示\n",
        "show(0)"
      ],
      "execution_count": 10,
      "outputs": [
        {
          "output_type": "display_data",
          "data": {
            "image/png": "[encoded data removed]",
            "text/plain": [
              "<Figure size 720x720 with 1 Axes>"
            ]
          },
          "metadata": {
            "tags": [],
            "needs_background": "light"
          }
        },
        {
          "output_type": "stream",
          "text": [
            "\n"
          ],
          "name": "stdout"
        }
      ]
    },
    {
      "cell_type": "code",
      "metadata": {
        "colab": {
          "base_uri": "https://localhost:8080/",
          "height": 1000
        },
        "id": "3-vLPi9rpbek",
        "outputId": "f36a86c7-8aa8-4e71-f5d2-39c60124f0ec"
      },
      "source": [
        "#########################\n",
        "# 幅優先探索\n",
        "#########################\n",
        "for i in range(1, 999):\n",
        "\n",
        "    #次に進出するマスのbool\n",
        "    done_next = maximum_filter(done, footprint=g) * ~done\n",
        "    #print('done_next\\n{}'.format(done_next))\n",
        "    \n",
        "    #次に進出するマスのcost\n",
        "    cost_next = minimum_filter(cost, footprint=g) * done_next\n",
        "    cost_next[done_next] += 1\n",
        "    #print('cost_next\\n{}'.format(cost_next))\n",
        "    \n",
        "    #costを更新\n",
        "    cost[done_next] = cost_next[done_next]\n",
        "    #ただし障害物のコストは999とする\n",
        "    cost[barrier] = 999\n",
        "    #print('cost\\n{}'.format(cost))\n",
        "    \n",
        "    #探索終了マスを更新\n",
        "    done[done_next] = done_next[done_next]\n",
        "    #ただし障害物は探索終了としない\n",
        "    done[barrier] = False\n",
        "    #print('done\\n{}'.format(done))\n",
        "    \n",
        "    #表示\n",
        "    show(i)\n",
        "    \n",
        "    #終了判定\n",
        "    if done[goal[0], goal[1]] == True:\n",
        "        break"
      ],
      "execution_count": 11,
      "outputs": [
        {
          "output_type": "display_data",
          "data": {
            "image/png": "[encoded data removed]",
            "text/plain": [
              "<Figure size 720x720 with 1 Axes>"
            ]
          },
          "metadata": {
            "tags": [],
            "needs_background": "light"
          }
        },
        {
          "output_type": "stream",
          "text": [
            "\n"
          ],
          "name": "stdout"
        },
        {
          "output_type": "display_data",
          "data": {
            "image/png": "[encoded data removed]",
            "text/plain": [
              "<Figure size 720x720 with 1 Axes>"
            ]
          },
          "metadata": {
            "tags": [],
            "needs_background": "light"
          }
        },
        {
          "output_type": "stream",
          "text": [
            "\n"
          ],
          "name": "stdout"
        },
        {
          "output_type": "display_data",
          "data": {
            "image/png": "[encoded data removed]",
            "text/plain": [
              "<Figure size 720x720 with 1 Axes>"
            ]
          },
          "metadata": {
            "tags": [],
            "needs_background": "light"
          }
        },
        {
          "output_type": "stream",
          "text": [
            "\n"
          ],
          "name": "stdout"
        },
        {
          "output_type": "display_data",
          "data": {
            "image/png": "[encoded data removed]",
            "text/plain": [
              "<Figure size 720x720 with 1 Axes>"
            ]
          },
          "metadata": {
            "tags": [],
            "needs_background": "light"
          }
        },
        {
          "output_type": "stream",
          "text": [
            "\n"
          ],
          "name": "stdout"
        },
        {
          "output_type": "display_data",
          "data": {
            "image/png": "[encoded data removed]",
            "text/plain": [
              "<Figure size 720x720 with 1 Axes>"
            ]
          },
          "metadata": {
            "tags": [],
            "needs_background": "light"
          }
        },
        {
          "output_type": "stream",
          "text": [
            "\n"
          ],
          "name": "stdout"
        },
        {
          "output_type": "display_data",
          "data": {
            "image/png": "[encoded data removed]",
            "text/plain": [
              "<Figure size 720x720 with 1 Axes>"
            ]
          },
          "metadata": {
            "tags": [],
            "needs_background": "light"
          }
        },
        {
          "output_type": "stream",
          "text": [
            "\n"
          ],
          "name": "stdout"
        }
      ]
    },
    {
      "cell_type": "code",
      "metadata": {
        "colab": {
          "base_uri": "https://localhost:8080/"
        },
        "id": "GeVPecrXpoE7",
        "outputId": "92681d0a-9208-4912-d159-4da9ed8c7467"
      },
      "source": [
        "#########################\n",
        "# ゴールから逆順でルート計算\n",
        "#########################\n",
        "point_now = goal\n",
        "cost_now = cost[goal[0], goal[1]]\n",
        "route = [goal]\n",
        "\n",
        "while cost_now > 0:\n",
        "    #上から来た場合\n",
        "    try:\n",
        "        if cost[point_now[0] - 1, point_now[1]] == cost_now - 1:\n",
        "            #更新\n",
        "            point_now = (point_now[0] - 1, point_now[1])\n",
        "            cost_now = cost_now - 1\n",
        "            #記録\n",
        "            route.append(point_now)\n",
        "    except: pass\n",
        "    #下から来た場合\n",
        "    try:\n",
        "        if cost[point_now[0] + 1, point_now[1]] == cost_now - 1:\n",
        "            #更新\n",
        "            point_now = (point_now[0] + 1, point_now[1])\n",
        "            cost_now = cost_now - 1\n",
        "            #記録\n",
        "            route.append(point_now)\n",
        "    except: pass\n",
        "    #左から来た場合    \n",
        "    try:\n",
        "        if cost[point_now[0], point_now[1] - 1] == cost_now - 1:\n",
        "            #更新\n",
        "            point_now = (point_now[0], point_now[1] - 1)\n",
        "            cost_now = cost_now - 1\n",
        "            #記録\n",
        "            route.append(point_now)\n",
        "    except: pass\n",
        "    #右から来た場合\n",
        "    try:\n",
        "        if cost[point_now[0], point_now[1] + 1] == cost_now - 1:\n",
        "            #更新\n",
        "            point_now = (point_now[0], point_now[1] + 1)\n",
        "            cost_now = cost_now - 1\n",
        "            #記録\n",
        "            route.append(point_now)\n",
        "    except: pass\n",
        "\n",
        "#ルートを逆順にする\n",
        "route = route[::-1]\n",
        "print('route\\n{}'.format(route))"
      ],
      "execution_count": 12,
      "outputs": [
        {
          "output_type": "stream",
          "text": [
            "route\n",
            "[(1, 1), (1, 2), (1, 3), (2, 3), (3, 3), (3, 2), (3, 1)]\n"
          ],
          "name": "stdout"
        }
      ]
    },
    {
      "cell_type": "markdown",
      "metadata": {
        "id": "UzQ2xvkNqZRE"
      },
      "source": [
        "## 飛車移動ができる場合のコストの算定"
      ]
    },
    {
      "cell_type": "code",
      "metadata": {
        "colab": {
          "base_uri": "https://localhost:8080/"
        },
        "id": "tRjiKkFlp_MG",
        "outputId": "c950d4d7-4132-4015-de95-ba86f63fa50e"
      },
      "source": [
        "cost = 1\n",
        "\n",
        "x_serial = 0\n",
        "y_serial = 0\n",
        "\n",
        "# print(route[0])\n",
        "# print(route[1])\n",
        "\n",
        "for i in range(2, len(route)):\n",
        "    # print(route[i])\n",
        "\n",
        "    if route[i-2][0] == route[i-1][0] and route[i-1][0] == route[i][0]:\n",
        "        pass\n",
        "    elif route[i-2][1] == route[i-1][1] and route[i-1][1] == route[i][1]:\n",
        "        pass\n",
        "    else:\n",
        "        cost += 1\n",
        "\n",
        "print(cost)"
      ],
      "execution_count": 13,
      "outputs": [
        {
          "output_type": "stream",
          "text": [
            "3\n"
          ],
          "name": "stdout"
        }
      ]
    }
  ]
}